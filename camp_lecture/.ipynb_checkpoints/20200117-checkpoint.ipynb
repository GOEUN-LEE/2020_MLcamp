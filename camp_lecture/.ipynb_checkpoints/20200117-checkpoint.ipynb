{
 "cells": [
  {
   "cell_type": "code",
   "execution_count": 0,
   "metadata": {
    "colab": {},
    "colab_type": "code",
    "id": "TnlVTV3-0aAr"
   },
   "outputs": [],
   "source": [
    "import torch\n",
    "import torch.nn as nn\n",
    "import torchvision\n",
    "import torchvision.transforms as transforms\n",
    "\n",
    "x=torch.tensor(1.,requires_grad = True)\n",
    "w=torch.tensor(2.,requires_grad = True)\n",
    "b=torch.tensor(3.,requires_grad = True)\n",
    "\n",
    "y=w*x+b\n",
    "y.backward()"
   ]
  },
  {
   "cell_type": "code",
   "execution_count": 2,
   "metadata": {
    "colab": {
     "base_uri": "https://localhost:8080/",
     "height": 68
    },
    "colab_type": "code",
    "executionInfo": {
     "elapsed": 719,
     "status": "ok",
     "timestamp": 1579236570476,
     "user": {
      "displayName": "이고은학부생",
      "photoUrl": "https://lh3.googleusercontent.com/a-/AAuE7mD7Hhpz51CZiAt-pFqVW_whashy8di01qX2cWMt=s64",
      "userId": "09774315254356044053"
     },
     "user_tz": -540
    },
    "id": "K7fHXFjR1TvI",
    "outputId": "6b45120e-63c8-45fe-82e9-fd48bba5d704"
   },
   "outputs": [
    {
     "name": "stdout",
     "output_type": "stream",
     "text": [
      "tensor(2.)\n",
      "tensor(1.)\n",
      "tensor(1.)\n"
     ]
    }
   ],
   "source": [
    "print(x.grad)\n",
    "print(w.grad)\n",
    "print(b.grad)"
   ]
  },
  {
   "cell_type": "code",
   "execution_count": 0,
   "metadata": {
    "colab": {},
    "colab_type": "code",
    "id": "oHzp0V0Q1bCD"
   },
   "outputs": [],
   "source": [
    "### Loading data from numpy\n",
    "import numpy as np\n",
    "# numpy array생성\n",
    "x=np.array([[1,2],[3,4]])\n",
    "# numpy array -> torch tensor\n",
    "y=torch.from_numpy(x)\n",
    "# torch tensor -> numpy array\n",
    "z=y.numpy()"
   ]
  },
  {
   "cell_type": "code",
   "execution_count": 4,
   "metadata": {
    "colab": {
     "base_uri": "https://localhost:8080/",
     "height": 102
    },
    "colab_type": "code",
    "executionInfo": {
     "elapsed": 7782,
     "status": "ok",
     "timestamp": 1579237076466,
     "user": {
      "displayName": "이고은학부생",
      "photoUrl": "https://lh3.googleusercontent.com/a-/AAuE7mD7Hhpz51CZiAt-pFqVW_whashy8di01qX2cWMt=s64",
      "userId": "09774315254356044053"
     },
     "user_tz": -540
    },
    "id": "eeiAr5hY2usb",
    "outputId": "86211e53-703d-4b24-e8f3-72d8ec36d3bf"
   },
   "outputs": [
    {
     "name": "stderr",
     "output_type": "stream",
     "text": [
      "\r",
      "0it [00:00, ?it/s]"
     ]
    },
    {
     "name": "stdout",
     "output_type": "stream",
     "text": [
      "Downloading https://www.cs.toronto.edu/~kriz/cifar-10-python.tar.gz to ../../data/cifar-10-python.tar.gz\n"
     ]
    },
    {
     "name": "stderr",
     "output_type": "stream",
     "text": [
      "170500096it [00:04, 40701197.28it/s]                               \n"
     ]
    },
    {
     "name": "stdout",
     "output_type": "stream",
     "text": [
      "Extracting ../../data/cifar-10-python.tar.gz to ../../data/\n",
      "torch.Size([3, 32, 32])\n",
      "6\n"
     ]
    }
   ],
   "source": [
    "### Loading data from numpy\n",
    "# CIFAR10 데이터셋을 다운로드 및 메모리에 로드\n",
    "train_dataset = torchvision.datasets.CIFAR10(root = '../../data/',\n",
    "                                             train = True,\n",
    "                                             transform = transforms.ToTensor(),\n",
    "                                             download = True)\n",
    "# 데이터셋의 첫번째 인스턴스로 접근해보기\n",
    "image, label = train_dataset[0]\n",
    "print(image.size())\n",
    "print(label)"
   ]
  },
  {
   "cell_type": "code",
   "execution_count": 10,
   "metadata": {
    "colab": {
     "base_uri": "https://localhost:8080/",
     "height": 51
    },
    "colab_type": "code",
    "executionInfo": {
     "elapsed": 6558,
     "status": "ok",
     "timestamp": 1579237507900,
     "user": {
      "displayName": "이고은학부생",
      "photoUrl": "https://lh3.googleusercontent.com/a-/AAuE7mD7Hhpz51CZiAt-pFqVW_whashy8di01qX2cWMt=s64",
      "userId": "09774315254356044053"
     },
     "user_tz": -540
    },
    "id": "uFhlp0_K3U6i",
    "outputId": "fa485152-b840-4d85-886c-7db41422a5da"
   },
   "outputs": [
    {
     "name": "stdout",
     "output_type": "stream",
     "text": [
      "16\n",
      "16\n"
     ]
    }
   ],
   "source": [
    "# 데이터셋으로부터 DataLoader생성\n",
    "train_loader = torch.utils.data.DataLoader(dataset = train_dataset, batch_size=64, shuffle=True)\n",
    "\n",
    "# DataLoader로부터 데이터를 받으며 학습하는 code skeleton\n",
    "for images, labels in train_loader:\n",
    "  pass\n",
    "\n",
    "# print(len(images))\n",
    "# print(len(labels))\n",
    "\n",
    "# # mini-batch\n",
    "# data_iter = iter(train_loader)\n",
    "# images,labels = data_iter.next()\n",
    "\n",
    "\n",
    "# print(images)\n",
    "# print(labels)"
   ]
  },
  {
   "cell_type": "code",
   "execution_count": 19,
   "metadata": {
    "colab": {
     "base_uri": "https://localhost:8080/",
     "height": 51
    },
    "colab_type": "code",
    "executionInfo": {
     "elapsed": 6599,
     "status": "ok",
     "timestamp": 1579237944544,
     "user": {
      "displayName": "이고은학부생",
      "photoUrl": "https://lh3.googleusercontent.com/a-/AAuE7mD7Hhpz51CZiAt-pFqVW_whashy8di01qX2cWMt=s64",
      "userId": "09774315254356044053"
     },
     "user_tz": -540
    },
    "id": "zg6ZNa9c3h3d",
    "outputId": "9baa7110-5392-4073-da78-f03350dbf958"
   },
   "outputs": [
    {
     "name": "stdout",
     "output_type": "stream",
     "text": [
      "torch.Size([64, 3, 224, 224])\n",
      "torch.Size([64, 100])\n"
     ]
    }
   ],
   "source": [
    "### Loading a pretraned model\n",
    "resnet = torchvision.models.resnet18(pretrained=True)\n",
    "\n",
    "# print(resnet)\n",
    "# print(\"---------------------------------------------\")\n",
    "\n",
    "# 다운받은 pretrained model을 추가로 학습하는 것도 가능\n",
    "# ResNet-18의 마지막 레이어를 추가 학습해보자\n",
    "for param in resnet.parameters():\n",
    "  param.requires_grad = False\n",
    "resnet.fc = nn.Linear(resnet.fc.in_features,100)\n",
    "\n",
    "# print(resnet)\n",
    "\n",
    "# Forward pass를 통해 pretrained model을 예측 작업에 바로 적용해볼 수 있음\n",
    "images = torch.randn(64,3,224,224)\n",
    "print(images.size())\n",
    "# print(images)\n",
    "# print(\"---------------------------------------------\")\n",
    "\n",
    "outputs = resnet(images)\n",
    "print(outputs.size())\n"
   ]
  },
  {
   "cell_type": "code",
   "execution_count": 21,
   "metadata": {
    "colab": {
     "base_uri": "https://localhost:8080/",
     "height": 275
    },
    "colab_type": "code",
    "executionInfo": {
     "elapsed": 4458,
     "status": "ok",
     "timestamp": 1579242389073,
     "user": {
      "displayName": "이고은학부생",
      "photoUrl": "https://lh3.googleusercontent.com/a-/AAuE7mD7Hhpz51CZiAt-pFqVW_whashy8di01qX2cWMt=s64",
      "userId": "09774315254356044053"
     },
     "user_tz": -540
    },
    "id": "BXg7_0aa5w0Z",
    "outputId": "4fd57e1c-312a-4d01-fe64-0265c50595dd"
   },
   "outputs": [
    {
     "name": "stderr",
     "output_type": "stream",
     "text": [
      "\r",
      "0it [00:00, ?it/s]"
     ]
    },
    {
     "name": "stdout",
     "output_type": "stream",
     "text": [
      "Downloading http://yann.lecun.com/exdb/mnist/train-images-idx3-ubyte.gz to ../../data/MNIST/raw/train-images-idx3-ubyte.gz\n"
     ]
    },
    {
     "name": "stderr",
     "output_type": "stream",
     "text": [
      "9920512it [00:01, 9786831.33it/s]                            \n"
     ]
    },
    {
     "name": "stdout",
     "output_type": "stream",
     "text": [
      "Extracting ../../data/MNIST/raw/train-images-idx3-ubyte.gz to ../../data/MNIST/raw\n"
     ]
    },
    {
     "name": "stderr",
     "output_type": "stream",
     "text": [
      "  0%|          | 0/28881 [00:00<?, ?it/s]"
     ]
    },
    {
     "name": "stdout",
     "output_type": "stream",
     "text": [
      "Downloading http://yann.lecun.com/exdb/mnist/train-labels-idx1-ubyte.gz to ../../data/MNIST/raw/train-labels-idx1-ubyte.gz\n"
     ]
    },
    {
     "name": "stderr",
     "output_type": "stream",
     "text": [
      "32768it [00:00, 142184.65it/s]           \n",
      "  0%|          | 0/1648877 [00:00<?, ?it/s]"
     ]
    },
    {
     "name": "stdout",
     "output_type": "stream",
     "text": [
      "Extracting ../../data/MNIST/raw/train-labels-idx1-ubyte.gz to ../../data/MNIST/raw\n",
      "Downloading http://yann.lecun.com/exdb/mnist/t10k-images-idx3-ubyte.gz to ../../data/MNIST/raw/t10k-images-idx3-ubyte.gz\n"
     ]
    },
    {
     "name": "stderr",
     "output_type": "stream",
     "text": [
      "1654784it [00:00, 2328702.37it/s]                            \n",
      "0it [00:00, ?it/s]"
     ]
    },
    {
     "name": "stdout",
     "output_type": "stream",
     "text": [
      "Extracting ../../data/MNIST/raw/t10k-images-idx3-ubyte.gz to ../../data/MNIST/raw\n",
      "Downloading http://yann.lecun.com/exdb/mnist/t10k-labels-idx1-ubyte.gz to ../../data/MNIST/raw/t10k-labels-idx1-ubyte.gz\n"
     ]
    },
    {
     "name": "stderr",
     "output_type": "stream",
     "text": [
      "8192it [00:00, 50826.51it/s]            \n"
     ]
    },
    {
     "name": "stdout",
     "output_type": "stream",
     "text": [
      "Extracting ../../data/MNIST/raw/t10k-labels-idx1-ubyte.gz to ../../data/MNIST/raw\n",
      "Processing...\n",
      "Done!\n"
     ]
    }
   ],
   "source": [
    "input_size = 784\n",
    "num_classes = 10\n",
    "batch_size = 100\n",
    "\n",
    "# MNIST dataset\n",
    "train_dataset = torchvision.datasets.MNIST(root = '../../data',\n",
    "                                           train = True,\n",
    "                                           transform = transforms.ToTensor(),\n",
    "                                           download = True)\n",
    "\n",
    "test_dataset = torchvision.datasets.MNIST(root = '../../data',\n",
    "                                          train = False,\n",
    "                                          transform = transforms.ToTensor())\n",
    "\n",
    "# Data loader\n",
    "train_loader = torch.utils.data.DataLoader(dataset = train_dataset,\n",
    "                                           batch_size = batch_size,\n",
    "                                           shuffle = True)\n",
    "\n",
    "test_loader = torch.utils.data.DataLoader(dataset = test_dataset,\n",
    "                                          batch_size = batch_size,\n",
    "                                          shuffle = False)"
   ]
  },
  {
   "cell_type": "code",
   "execution_count": 0,
   "metadata": {
    "colab": {},
    "colab_type": "code",
    "id": "jjnxNDW57-SM"
   },
   "outputs": [],
   "source": [
    "# 실험에 사용할 하이퍼파라메터들을 설정합니다.\n",
    "learning_rate = 0.001\n",
    "\n",
    "# 하나의 linear 레이러로 구성된 네트워크를 만듭니다.\n",
    "model = nn.Linear(input_size, num_classes)\n",
    "\n",
    "# 모델이 사용할 loss function(i.e., objective function)과 optimizer를 지정합니다)\n",
    "# nn.CrossEntropyLoss() computes softmax internally\n",
    "criterion = nn.CrossEntropyLoss()\n",
    "optimizer = torch.optim.SGD(model.parameters(), lr = learning_rate)"
   ]
  },
  {
   "cell_type": "code",
   "execution_count": 0,
   "metadata": {
    "colab": {},
    "colab_type": "code",
    "id": "K7Yt0wLNLrQj"
   },
   "outputs": [],
   "source": [
    "# Train the model\n",
    "def train_logreg(train_loader, num_epochs):\n",
    "  total_step = len(train_loader)\n",
    "  for epoch in range(num_epochs):\n",
    "    for i, (images, labels) in enumerate(train_loader):\n",
    "      # Reshape images to (batch_size, input_size)\n",
    "      images = images.reshape(-1, 28 * 28)\n",
    "\n",
    "      # Forward pass\n",
    "      outputs = model(images)\n",
    "      loss = criterion(outputs, labels)\n",
    "\n",
    "      # Backward and optimize\n",
    "      optimizer.zero_grad()\n",
    "      loss.backward()\n",
    "      optimizer.step()\n",
    "\n",
    "      # Display the progress\n",
    "      if (i + 1) % 300 == 0:\n",
    "        print('Epoch [{}/{}], Step [{}/{}], Loss: {:.4f}'\n",
    "        .format(epoch + 1, num_epochs, i + 1, total_step, loss.item()))\n",
    "\n",
    "# Test the model\n",
    "def test_logreg(model, test_loader):\n",
    "  # In test phase, we don't need to compute gradients (for memory efficiency)\n",
    "  with torch.no_grad():\n",
    "    correct = 0\n",
    "    total = 0\n",
    "    for images, labels in test_loader:\n",
    "      images = images.reshape(-1, 28 * 28)\n",
    "      outputs = model(images)\n",
    "      _, predicted = torch.max(outputs.data, 1)\n",
    "      total += labels.size(0)\n",
    "      correct += (predicted == labels).sum()\n",
    "    \n",
    "    # Display the result\n",
    "    print('Accuracy of the model on the 10000 test images: {} %'.format(100 * correct / total))"
   ]
  },
  {
   "cell_type": "code",
   "execution_count": 24,
   "metadata": {
    "colab": {
     "base_uri": "https://localhost:8080/",
     "height": 374
    },
    "colab_type": "code",
    "executionInfo": {
     "elapsed": 53803,
     "status": "ok",
     "timestamp": 1579242480141,
     "user": {
      "displayName": "이고은학부생",
      "photoUrl": "https://lh3.googleusercontent.com/a-/AAuE7mD7Hhpz51CZiAt-pFqVW_whashy8di01qX2cWMt=s64",
      "userId": "09774315254356044053"
     },
     "user_tz": -540
    },
    "id": "j3KnQ4Y4Ltjn",
    "outputId": "375730ca-72d4-4973-e5b9-a87ef385d0fc"
   },
   "outputs": [
    {
     "name": "stdout",
     "output_type": "stream",
     "text": [
      "Epoch [1/10], Step [300/600], Loss: 2.0063\n",
      "Epoch [1/10], Step [600/600], Loss: 1.7908\n",
      "Epoch [2/10], Step [300/600], Loss: 1.6101\n",
      "Epoch [2/10], Step [600/600], Loss: 1.4104\n",
      "Epoch [3/10], Step [300/600], Loss: 1.2786\n",
      "Epoch [3/10], Step [600/600], Loss: 1.2638\n",
      "Epoch [4/10], Step [300/600], Loss: 1.2011\n",
      "Epoch [4/10], Step [600/600], Loss: 1.2151\n",
      "Epoch [5/10], Step [300/600], Loss: 1.0267\n",
      "Epoch [5/10], Step [600/600], Loss: 1.0113\n",
      "Epoch [6/10], Step [300/600], Loss: 0.9814\n",
      "Epoch [6/10], Step [600/600], Loss: 0.9029\n",
      "Epoch [7/10], Step [300/600], Loss: 0.9376\n",
      "Epoch [7/10], Step [600/600], Loss: 0.8902\n",
      "Epoch [8/10], Step [300/600], Loss: 0.8833\n",
      "Epoch [8/10], Step [600/600], Loss: 0.8036\n",
      "Epoch [9/10], Step [300/600], Loss: 0.7887\n",
      "Epoch [9/10], Step [600/600], Loss: 0.7912\n",
      "Epoch [10/10], Step [300/600], Loss: 0.6734\n",
      "Epoch [10/10], Step [600/600], Loss: 0.7623\n",
      "Accuracy of the model on the 10000 test images: 85 %\n"
     ]
    }
   ],
   "source": [
    "train_logreg(train_loader, num_epochs = 10)\n",
    "test_logreg(model, test_loader)"
   ]
  },
  {
   "cell_type": "code",
   "execution_count": 25,
   "metadata": {
    "colab": {
     "base_uri": "https://localhost:8080/",
     "height": 374
    },
    "colab_type": "code",
    "executionInfo": {
     "elapsed": 128341,
     "status": "ok",
     "timestamp": 1579242904805,
     "user": {
      "displayName": "이고은학부생",
      "photoUrl": "https://lh3.googleusercontent.com/a-/AAuE7mD7Hhpz51CZiAt-pFqVW_whashy8di01qX2cWMt=s64",
      "userId": "09774315254356044053"
     },
     "user_tz": -540
    },
    "id": "40aPpf0lLw-k",
    "outputId": "d2a30dd8-83df-4764-820c-f681f37406ff"
   },
   "outputs": [
    {
     "name": "stdout",
     "output_type": "stream",
     "text": [
      "Epoch [1/10], Step[300/600], Loss: 0.2101\n",
      "Epoch [1/10], Step[600/600], Loss: 0.1717\n",
      "Epoch [2/10], Step[300/600], Loss: 0.1119\n",
      "Epoch [2/10], Step[600/600], Loss: 0.0665\n",
      "Epoch [3/10], Step[300/600], Loss: 0.0710\n",
      "Epoch [3/10], Step[600/600], Loss: 0.0564\n",
      "Epoch [4/10], Step[300/600], Loss: 0.0763\n",
      "Epoch [4/10], Step[600/600], Loss: 0.0237\n",
      "Epoch [5/10], Step[300/600], Loss: 0.0134\n",
      "Epoch [5/10], Step[600/600], Loss: 0.0849\n",
      "Epoch [6/10], Step[300/600], Loss: 0.0685\n",
      "Epoch [6/10], Step[600/600], Loss: 0.0223\n",
      "Epoch [7/10], Step[300/600], Loss: 0.0331\n",
      "Epoch [7/10], Step[600/600], Loss: 0.0556\n",
      "Epoch [8/10], Step[300/600], Loss: 0.0282\n",
      "Epoch [8/10], Step[600/600], Loss: 0.0403\n",
      "Epoch [9/10], Step[300/600], Loss: 0.0176\n",
      "Epoch [9/10], Step[600/600], Loss: 0.0194\n",
      "Epoch [10/10], Step[300/600], Loss: 0.0023\n",
      "Epoch [10/10], Step[600/600], Loss: 0.0020\n",
      "Accuracy of the network on the 10000 test images: 98.2 %\n"
     ]
    }
   ],
   "source": [
    "# Device configuration\n",
    "device = torch.device('cuda' if torch.cuda.is_available() else 'cpu')\n",
    "\n",
    "# Hyper-parameters\n",
    "hidden_size = 500\n",
    "learning_rate = 0.001\n",
    "\n",
    "# Fully connected neural network with one hidden layer\n",
    "class FFNet(nn.Module):\n",
    "  def __init__(self, input_size, hidden_size, num_classes):\n",
    "    super(FFNet, self).__init__()\n",
    "    self.fc1 = nn.Linear(input_size, hidden_size)\n",
    "    self.relu = nn.ReLU()\n",
    "    self.fc2 = nn.Linear(hidden_size, num_classes)\n",
    "  \n",
    "  def forward(self, x):\n",
    "    out = self.fc1(x)\n",
    "    out = self.relu(out)\n",
    "    out = self.fc2(out)\n",
    "    return out\n",
    "\n",
    "# Train the model\n",
    "def train_ffnet(model, train_loader, num_epochs):\n",
    "  total_step = len(train_loader)\n",
    "  for epoch in range(num_epochs):\n",
    "    for i, (images, labels) in enumerate(train_loader):\n",
    "      # Move tensors to the configured device\n",
    "      images = images.reshape(-1, 28 * 28).to(device)\n",
    "      labels = labels.to(device)\n",
    "\n",
    "      # Forward pass\n",
    "      outputs = model(images)\n",
    "      loss = criterion(outputs, labels)\n",
    "\n",
    "      # Backward and optimize\n",
    "      optimizer.zero_grad()\n",
    "      loss.backward()\n",
    "      optimizer.step()\n",
    "\n",
    "      # Display the progress\n",
    "      if(i + 1) % 300 == 0:\n",
    "        print('Epoch [{}/{}], Step[{}/{}], Loss: {:.4f}'\n",
    "        .format(epoch + 1, num_epochs, i + 1, total_step, loss.item()))\n",
    "\n",
    "# Test the model\n",
    "def test_ffnet(model, test_loader):\n",
    "  # In test phase, we don't need to compute gradients (for memory efficiency)\n",
    "  with torch.no_grad():\n",
    "    correct = 0\n",
    "    total = 0\n",
    "    for images, labels in test_loader:\n",
    "      images = images.reshape(-1, 28 * 28).to(device)\n",
    "      labels = labels.to(device)\n",
    "      outputs = model(images)\n",
    "      _, predicted = torch.max(outputs.data, 1)\n",
    "      total += labels.size(0)\n",
    "      correct += (predicted == labels).sum().item()\n",
    "    \n",
    "    # Display the result\n",
    "    print('Accuracy of the network on the 10000 test images: {} %'.format(100 * correct / total))\n",
    "\n",
    "# declare a model object  (instantiation)\n",
    "model = FFNet(input_size, hidden_size, num_classes).to(device)\n",
    "\n",
    "# Set the loss and optimizer\n",
    "criterion = nn.CrossEntropyLoss()\n",
    "optimizer = torch.optim.Adam(model.parameters(), lr = learning_rate)\n",
    "\n",
    "train_ffnet(model, train_loader, num_epochs = 10)\n",
    "test_ffnet(model, test_loader)"
   ]
  },
  {
   "cell_type": "code",
   "execution_count": 0,
   "metadata": {
    "colab": {},
    "colab_type": "code",
    "id": "DoYwNlrbNGc6"
   },
   "outputs": [],
   "source": [
    "# Device configuration\n",
    "device = torch.device('cuda' if torch.cuda.is_available() else 'cpu')\n",
    "\n",
    "# Hyper-parameters\n",
    "hidden_size = 500\n",
    "learning_rate = 0.001\n",
    "\n",
    "# Convolutional neural network(two convolutional layers)\n",
    "class ConvNet(nn.Module):\n",
    "  def __init__(self, num_classes = 10):\n",
    "    super(ConvNet, self).__init__()\n",
    "    self.layer1 = nn.Sequential(\n",
    "        nn.Conv2d(1,16,kernel_size=5,stride=1,paading=2),\n",
    "        nn.BatchNorm2d(16),\n",
    "        nn.ReLU(),\n",
    "        nn.MaxPool2d(kernel_size=5,stride=2)\n",
    "    )\n",
    "    self.layer2 = nn.Sequential(\n",
    "        nn.Conv2d(16,32,kernel_size=5,strie=1,padding=2),\n",
    "        nn.BatchNorm2d(32),\n",
    "        nn.RELU(),\n",
    "        nn.MaxPool2d(kernel_size=2,stride=2)\n",
    "    )\n",
    "    self.fc = nn.Linear(7*7*32, num_classes)\n",
    "\n",
    "def forward(self, x):\n",
    "  out = self.layer1(x)\n",
    "  out = self.layer2(out)\n",
    "  out = out.reshape(out.size(0),-1)\n",
    "  out = self.fc(out)\n",
    "  return out\n"
   ]
  },
  {
   "cell_type": "code",
   "execution_count": 0,
   "metadata": {
    "colab": {},
    "colab_type": "code",
    "id": "plQHowjaNs0v"
   },
   "outputs": [],
   "source": [
    "# Train the model\n",
    "def train_convnet(train_loader, num_epochs):\n",
    "  total_step = len(train_loader)\n",
    "  for epoch in range(num_epochs):\n",
    "    for i, (images, labels) in enumerate(train_loader):\n",
    "      images = images.to(device)\n",
    "      labels = labels.to(device)\n",
    "\n",
    "      # Forward pass\n",
    "      outputs = model(images)\n",
    "      loss = criterion(outputs, labels)\n",
    "\n",
    "      # Backward and optimize\n",
    "      opimizer.zero_grad()\n",
    "      loss.backward()\n",
    "      optimizer.step()\n",
    "\n",
    "      # Display the progress\n",
    "      if (i + 1) % 300 == 0:\n",
    "        print('Epoch [{}/{}], Step [{}/{}], Loss: {:.4f}'\n",
    "        .format(epoch + 1, num_epochs, i + 1, total_step, loss.item()))\n",
    "\n",
    "# Test the model\n",
    "def test_convnet(model, test_loader):\n",
    "  model.eval()  # eval mode (batchnorm uses moving mean/variance instead of mini-batch mean/variance)\n",
    "  with torch.no_grad():\n",
    "    correct = 0\n",
    "    total = 0\n",
    "    for images, labels in test_loader:\n",
    "      images = images.to(device)\n",
    "      labels = labels.to(device)\n",
    "      outputs = model(images)\n",
    "      _, predicted = torch.max(outputs.data, 1)\n",
    "      total += labels.size(0)\n",
    "      correct += (predicted == labels).sum().item()\n",
    "    \n",
    "    # Display \n",
    "    print(f'Test Accuracy of the model on the 100000 test images: {100*correct/total}')"
   ]
  },
  {
   "cell_type": "code",
   "execution_count": 29,
   "metadata": {
    "colab": {
     "base_uri": "https://localhost:8080/",
     "height": 224
    },
    "colab_type": "code",
    "executionInfo": {
     "elapsed": 5687,
     "status": "ok",
     "timestamp": 1579245559696,
     "user": {
      "displayName": "이고은학부생",
      "photoUrl": "https://lh3.googleusercontent.com/a-/AAuE7mD7Hhpz51CZiAt-pFqVW_whashy8di01qX2cWMt=s64",
      "userId": "09774315254356044053"
     },
     "user_tz": -540
    },
    "id": "Ssq6jUywXa0z",
    "outputId": "481bf9c2-590c-4401-985e-d97a782afddd"
   },
   "outputs": [
    {
     "name": "stdout",
     "output_type": "stream",
     "text": [
      "Collecting skorch\n",
      "\u001b[?25l  Downloading https://files.pythonhosted.org/packages/fb/1e/cc4e1f23cd1faab06672f309e0857294aaa80c5f84670f4d3d19b08ab10b/skorch-0.7.0-py3-none-any.whl (105kB)\n",
      "\r",
      "\u001b[K     |███                             | 10kB 13.1MB/s eta 0:00:01\r",
      "\u001b[K     |██████▏                         | 20kB 3.1MB/s eta 0:00:01\r",
      "\u001b[K     |█████████▎                      | 30kB 4.4MB/s eta 0:00:01\r",
      "\u001b[K     |████████████▍                   | 40kB 2.9MB/s eta 0:00:01\r",
      "\u001b[K     |███████████████▌                | 51kB 3.5MB/s eta 0:00:01\r",
      "\u001b[K     |██████████████████▌             | 61kB 4.2MB/s eta 0:00:01\r",
      "\u001b[K     |█████████████████████▋          | 71kB 4.8MB/s eta 0:00:01\r",
      "\u001b[K     |████████████████████████▊       | 81kB 5.4MB/s eta 0:00:01\r",
      "\u001b[K     |███████████████████████████▉    | 92kB 6.1MB/s eta 0:00:01\r",
      "\u001b[K     |███████████████████████████████ | 102kB 4.7MB/s eta 0:00:01\r",
      "\u001b[K     |████████████████████████████████| 112kB 4.7MB/s \n",
      "\u001b[?25hRequirement already satisfied: tqdm>=4.14.0 in /usr/local/lib/python3.6/dist-packages (from skorch) (4.28.1)\n",
      "Requirement already satisfied: scikit-learn>=0.19.1 in /usr/local/lib/python3.6/dist-packages (from skorch) (0.22.1)\n",
      "Requirement already satisfied: tabulate>=0.7.7 in /usr/local/lib/python3.6/dist-packages (from skorch) (0.8.6)\n",
      "Requirement already satisfied: scipy>=1.1.0 in /usr/local/lib/python3.6/dist-packages (from skorch) (1.4.1)\n",
      "Requirement already satisfied: numpy>=1.13.3 in /usr/local/lib/python3.6/dist-packages (from skorch) (1.17.5)\n",
      "Requirement already satisfied: joblib>=0.11 in /usr/local/lib/python3.6/dist-packages (from scikit-learn>=0.19.1->skorch) (0.14.1)\n",
      "Installing collected packages: skorch\n",
      "Successfully installed skorch-0.7.0\n"
     ]
    }
   ],
   "source": [
    "!pip install skorch\n"
   ]
  },
  {
   "cell_type": "code",
   "execution_count": 32,
   "metadata": {
    "colab": {
     "base_uri": "https://localhost:8080/",
     "height": 85
    },
    "colab_type": "code",
    "executionInfo": {
     "elapsed": 4033,
     "status": "ok",
     "timestamp": 1579246029316,
     "user": {
      "displayName": "이고은학부생",
      "photoUrl": "https://lh3.googleusercontent.com/a-/AAuE7mD7Hhpz51CZiAt-pFqVW_whashy8di01qX2cWMt=s64",
      "userId": "09774315254356044053"
     },
     "user_tz": -540
    },
    "id": "FYZkbJdzXskQ",
    "outputId": "92efc57e-2350-4695-f816-1174c483a5ef"
   },
   "outputs": [
    {
     "name": "stdout",
     "output_type": "stream",
     "text": [
      "(10000, 784)\n",
      "(10000,)\n",
      "(10000, 784)\n",
      "(10000,)\n"
     ]
    }
   ],
   "source": [
    "# MNIST dataset\n",
    "train_dataset = torchvision.datasets.MNIST(root='../../data',\n",
    "                                           train=True,\n",
    "                                           transform = transforms.ToTensor(),\n",
    "                                           download=True)\n",
    "test_dataset = torchvision.datasets.MNIST(root='../../data',\n",
    "                                          train=False,\n",
    "                                          transform = transforms.ToTensor())\n",
    "train_loader = torch.utils.data.DataLoader(dataset = train_dataset,\n",
    "                                           batch_size = len(test_dataset),\n",
    "                                           shuffle = True)\n",
    "test_loader = torch.utils.data.DataLoader(dataset=test_dataset,\n",
    "                                          batch_size=len(test_dataset),\n",
    "                                          shuffle=False)\n",
    "\n",
    "X_tr = next(iter(train_loader))[0].numpy()\n",
    "y_tr = next(iter(train_loader))[1].numpy()\n",
    "X_ts = next(iter(test_loader))[0].numpy()\n",
    "y_ts = next(iter(test_loader))[1].numpy()\n",
    "\n",
    "X_tr = X_tr.reshape(-1,input_size)\n",
    "X_ts = X_ts.reshape(-1,input_size)\n",
    "\n",
    "print(X_tr.shape)\n",
    "print(y_tr.shape)\n",
    "print(X_ts.shape)\n",
    "print(y_ts.shape)\n"
   ]
  },
  {
   "cell_type": "code",
   "execution_count": 0,
   "metadata": {
    "colab": {},
    "colab_type": "code",
    "id": "4P7ybK4QZWpz"
   },
   "outputs": [],
   "source": [
    "from skorch import NeutralNetClassifier\n",
    "from sklearn.model_selection import GridSearchCV\n",
    "from sklearn.metrics import accuracy_score\n",
    "\n",
    "input_size = 784\n",
    "num_classes = 10\n",
    "batch_size = 100\n",
    "hidden_size = 500\n",
    "\n",
    "net = NeutralNetClassifier(FFNet,\n",
    "                           criterion = nn.CrossEntropyLoss\n",
    "                           )"
   ]
  }
 ],
 "metadata": {
  "colab": {
   "authorship_tag": "ABX9TyPUzSclseelWK4W3t1tyq/6",
   "name": "20200117.ipynb",
   "provenance": []
  },
  "kernelspec": {
   "display_name": "Python 3",
   "language": "python",
   "name": "python3"
  },
  "language_info": {
   "codemirror_mode": {
    "name": "ipython",
    "version": 3
   },
   "file_extension": ".py",
   "mimetype": "text/x-python",
   "name": "python",
   "nbconvert_exporter": "python",
   "pygments_lexer": "ipython3",
   "version": "3.8.5"
  }
 },
 "nbformat": 4,
 "nbformat_minor": 1
}
